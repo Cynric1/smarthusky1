{
 "cells": [
  {
   "cell_type": "markdown",
   "metadata": {},
   "source": [
    "Idea: \n",
    "\n",
    "For each container, say multiplier is $x$, number of inhabitants is $y$, let $z$% of players choose this chest\n",
    "\n",
    "pnl = x / (y+z)\n",
    "\n",
    "First assume uniform distribution of players"
   ]
  },
  {
   "cell_type": "code",
   "execution_count": 1,
   "metadata": {},
   "outputs": [
    {
     "name": "stdout",
     "output_type": "stream",
     "text": [
      "{10: 0.9091, 80: 5.0, 37: 2.8462, 17: 1.5455, 31: 2.5833, 90: 4.5, 50: 3.5714, 20: 1.6667, 73: 5.2143, 89: 4.9444}\n"
     ]
    }
   ],
   "source": [
    "# List of tuples: (multiplier, inhabitants)\n",
    "import numpy as np\n",
    "player_density = np.array([0.1] * 10) # uniform density\n",
    "containers_data = np.array([\n",
    "    (10, 1),\n",
    "    (80, 6),\n",
    "    (37, 3),\n",
    "    (17, 1),\n",
    "    (31, 2),\n",
    "    (90, 10),\n",
    "    (50, 4),\n",
    "    (20, 2),\n",
    "    (73, 4),\n",
    "    (89, 8)\n",
    "])\n",
    "\n",
    "dic = {}\n",
    "for i, (x,y) in enumerate(containers_data):\n",
    "    pnl = x / (y + player_density[i] * 100)\n",
    "    if x not in dic:\n",
    "        dic[x] = round(pnl, 4)\n",
    "    else:\n",
    "        dic[x] += round(pnl, 4)\n",
    "\n",
    "print(dic)"
   ]
  },
  {
   "cell_type": "markdown",
   "metadata": {},
   "source": [
    "Here we can see (73,4) chest is best, with 52k profits, followed by (80,6)chest with 50k profits, followed by (89,8) with 49k profits\n",
    "\n",
    "Assuming player distributino is equal to pnl distribution:"
   ]
  },
  {
   "cell_type": "code",
   "execution_count": 2,
   "metadata": {},
   "outputs": [
    {
     "data": {
      "text/plain": [
       "array([0.9091, 5.    , 2.8462, 1.5455, 2.5833, 4.5   , 3.5714, 1.6667,\n",
       "       5.2143, 4.9444])"
      ]
     },
     "execution_count": 2,
     "metadata": {},
     "output_type": "execute_result"
    }
   ],
   "source": [
    "pnls = np.array(list(dic.values()))\n",
    "pnls"
   ]
  },
  {
   "cell_type": "code",
   "execution_count": 3,
   "metadata": {},
   "outputs": [
    {
     "name": "stdout",
     "output_type": "stream",
     "text": [
      "player percentage under uniform PnL: [ 2.77326126 15.2527844   8.68249499  4.71463566  7.88050359 13.72750596\n",
      " 10.89475884  5.08436315 15.90651873 15.08317343]\n",
      "{10: 2.6502, 80: 3.7642, 37: 3.1671, 17: 2.9748, 31: 3.1375, 90: 3.7931, 50: 3.3569, 20: 2.8231, 73: 3.6671, 89: 3.8556}\n",
      "best chester: 89 3.8556\n"
     ]
    }
   ],
   "source": [
    "player_density = pnls / np.sum(pnls)\n",
    "print('player percentage under uniform PnL:', player_density * 100)\n",
    "dic = {}\n",
    "for i, (x,y) in enumerate(containers_data):\n",
    "    pnl = x / (y + player_density[i] * 100)\n",
    "    if x not in dic:\n",
    "        dic[x] = round(pnl, 4)\n",
    "    else:\n",
    "        dic[x] += round(pnl, 4)\n",
    "\n",
    "print(dic)\n",
    "key_max = max(dic, key=dic.get)\n",
    "print('best chester:', key_max, dic[key_max])"
   ]
  },
  {
   "cell_type": "markdown",
   "metadata": {},
   "source": [
    "In this case, (89,8) is best with 38k profits, followed by \n",
    "(90,10) with 37.9k, (80,6) with 37.6, and (73,4) with 36.6k\n",
    "\n",
    "In this case, no chest is worth 50k, so we should only open one chest.\n",
    "\n",
    "Some of the good chests are (89,8), (90,10), (80,6) and (73,4).\n",
    "\n",
    "Chests like (17,1) or (31,2) provide good profits if too many players choose the best 4 chests.\n",
    "\n",
    "But these two are very vulnerable, as even if just 10% of players choose either of these two,\n",
    "we will be left with 17/11, 31/12, or 15k and 25k profits\n"
   ]
  },
  {
   "cell_type": "markdown",
   "metadata": {},
   "source": [
    "Again assume player distribution roughly follows pnl distribution with uniform assumption\n",
    "\n",
    "We then add N(0, 0.1) noise to each chest, but make sure density still sums up to 1\n",
    "\n",
    "And simulate this for 100k times."
   ]
  },
  {
   "cell_type": "code",
   "execution_count": 4,
   "metadata": {},
   "outputs": [
    {
     "name": "stdout",
     "output_type": "stream",
     "text": [
      "{10: 5.0556, 80: 5.0372, 37: 5.2429, 17: 7.393, 31: 6.1494, 90: 4.5923, 50: 5.1021, 20: 4.8927, 73: 5.377, 89: 4.8519}\n",
      "best chester: 17 7.393\n"
     ]
    }
   ],
   "source": [
    "def add_noise(player_density, sigma=0.1):\n",
    "    noise = np.random.normal(0, sigma, size=player_density.shape)\n",
    "\n",
    "    # Ensure non-negative\n",
    "    noisy_density = np.clip(player_density + noise, 0, None) \n",
    "\n",
    "    # Renormalize to sum to 1\n",
    "    normalized_density = noisy_density / np.sum(noisy_density)\n",
    "    return normalized_density\n",
    "\n",
    "N_sim = 100000\n",
    "dic = {}\n",
    "for _ in range(N_sim):\n",
    "    noise_density = add_noise(player_density)\n",
    "    for i, (x,y) in enumerate(containers_data):\n",
    "        pnl = x / (y + noise_density[i] * 100)\n",
    "        if x not in dic:\n",
    "            dic[x] = round(pnl, 4)\n",
    "        else:\n",
    "            dic[x] += round(pnl, 4)\n",
    "for keys in dic.keys():\n",
    "    dic[keys] = round(dic[keys] / N_sim, 4)\n",
    "print(dic)\n",
    "key_max = max(dic, key=dic.get)\n",
    "print('best chester:', key_max, dic[key_max])\n",
    "\n"
   ]
  },
  {
   "cell_type": "code",
   "execution_count": 5,
   "metadata": {},
   "outputs": [
    {
     "name": "stdout",
     "output_type": "stream",
     "text": [
      "{10: 5.2401, 80: 6.5501, 37: 6.235, 17: 8.3366, 31: 7.4334, 90: 5.3201, 50: 6.3023, 20: 5.32, 73: 7.7592, 89: 5.9792}\n",
      "best chester: 17 8.3366\n"
     ]
    }
   ],
   "source": [
    "dic = {}\n",
    "for _ in range(N_sim):\n",
    "    noise_density = add_noise(player_density, sigma=0.2)\n",
    "    for i, (x,y) in enumerate(containers_data):\n",
    "        pnl = x / (y + noise_density[i] * 100)\n",
    "        if x not in dic:\n",
    "            dic[x] = round(pnl, 4)\n",
    "        else:\n",
    "            dic[x] += round(pnl, 4)\n",
    "for keys in dic.keys():\n",
    "    dic[keys] = round(dic[keys] / N_sim, 4)\n",
    "print(dic)\n",
    "key_max = max(dic, key=dic.get)\n",
    "print('best chester:', key_max, dic[key_max])"
   ]
  },
  {
   "cell_type": "code",
   "execution_count": 6,
   "metadata": {},
   "outputs": [
    {
     "name": "stdout",
     "output_type": "stream",
     "text": [
      "{10: 4.6329, 80: 4.0387, 37: 4.0259, 17: 5.869, 31: 4.4299, 90: 4.0057, 50: 3.8995, 20: 4.1702, 73: 3.9819, 89: 4.0884}\n",
      "best chester: 17 5.869\n"
     ]
    }
   ],
   "source": [
    "dic = {}\n",
    "for _ in range(N_sim):\n",
    "    noise_density = add_noise(player_density, sigma=0.05)\n",
    "    for i, (x,y) in enumerate(containers_data):\n",
    "        pnl = x / (y + noise_density[i] * 100)\n",
    "        if x not in dic:\n",
    "            dic[x] = round(pnl, 4)\n",
    "        else:\n",
    "            dic[x] += round(pnl, 4)\n",
    "for keys in dic.keys():\n",
    "    dic[keys] = round(dic[keys] / N_sim, 4)\n",
    "print(dic)\n",
    "key_max = max(dic, key=dic.get)\n",
    "print('best chester:', key_max, dic[key_max])"
   ]
  },
  {
   "cell_type": "code",
   "execution_count": null,
   "metadata": {},
   "outputs": [],
   "source": []
  }
 ],
 "metadata": {
  "kernelspec": {
   "display_name": "Python 3",
   "language": "python",
   "name": "python3"
  },
  "language_info": {
   "codemirror_mode": {
    "name": "ipython",
    "version": 3
   },
   "file_extension": ".py",
   "mimetype": "text/x-python",
   "name": "python",
   "nbconvert_exporter": "python",
   "pygments_lexer": "ipython3",
   "version": "3.11.4"
  }
 },
 "nbformat": 4,
 "nbformat_minor": 2
}
